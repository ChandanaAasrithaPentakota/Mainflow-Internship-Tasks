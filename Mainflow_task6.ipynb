{
  "nbformat": 4,
  "nbformat_minor": 0,
  "metadata": {
    "colab": {
      "provenance": [],
      "authorship_tag": "ABX9TyPiph3in/jYGSqRlHdynnnj",
      "include_colab_link": true
    },
    "kernelspec": {
      "name": "python3",
      "display_name": "Python 3"
    },
    "language_info": {
      "name": "python"
    }
  },
  "cells": [
    {
      "cell_type": "markdown",
      "metadata": {
        "id": "view-in-github",
        "colab_type": "text"
      },
      "source": [
        "<a href=\"https://colab.research.google.com/github/ChandanaAasrithaPentakota/Mainflow-Internship-Tasks/blob/main/Mainflow_task6.ipynb\" target=\"_parent\"><img src=\"https://colab.research.google.com/assets/colab-badge.svg\" alt=\"Open In Colab\"/></a>"
      ]
    },
    {
      "cell_type": "code",
      "execution_count": 20,
      "metadata": {
        "id": "VGPdrTneN-mJ"
      },
      "outputs": [],
      "source": [
        "import pandas as pd\n",
        "import numpy as np"
      ]
    },
    {
      "cell_type": "code",
      "source": [
        "df=pd.read_csv(\"/disney_plus_titles.csv\")\n",
        "df.head()"
      ],
      "metadata": {
        "colab": {
          "base_uri": "https://localhost:8080/",
          "height": 466
        },
        "id": "wdDrEJSvOMsN",
        "outputId": "4b084a81-7754-4b03-e5e6-bd2872ae6d0c"
      },
      "execution_count": 21,
      "outputs": [
        {
          "output_type": "execute_result",
          "data": {
            "text/plain": [
              "  show_id     type                           title  \\\n",
              "0      s1    Movie                   A Spark Story   \n",
              "1      s2    Movie                  Spooky Buddies   \n",
              "2      s3    Movie          The Fault in Our Stars   \n",
              "3      s4  TV Show                 Dog: Impossible   \n",
              "4      s5  TV Show  Spidey And His Amazing Friends   \n",
              "\n",
              "                     director  \\\n",
              "0  Jason Sterman, Leanne Dare   \n",
              "1                Robert Vince   \n",
              "2                  Josh Boone   \n",
              "3                         NaN   \n",
              "4                         NaN   \n",
              "\n",
              "                                                cast                country  \\\n",
              "0                      Apthon Corbin, Louis Gonzales                    NaN   \n",
              "1  Tucker Albrizzi, Diedrich Bader, Ameko Eks Mas...  United States, Canada   \n",
              "2  Shailene Woodley, Ansel Elgort, Laura Dern, Sa...          United States   \n",
              "3                                       Matt Beisner          United States   \n",
              "4  Benjamin Valic, Lily Sanfelippo, Jakari Fraser...          United States   \n",
              "\n",
              "           date_added  release_year rating   duration  \\\n",
              "0  September 24, 2021          2021  TV-PG     88 min   \n",
              "1  September 24, 2021          2011      G     93 min   \n",
              "2  September 24, 2021          2014  PG-13    127 min   \n",
              "3  September 22, 2021          2019  TV-PG  2 Seasons   \n",
              "4  September 22, 2021          2021   TV-Y   1 Season   \n",
              "\n",
              "                              listed_in  \\\n",
              "0                           Documentary   \n",
              "1                 Comedy, Fantasy, Kids   \n",
              "2         Coming of Age, Drama, Romance   \n",
              "3  Animals & Nature, Docuseries, Family   \n",
              "4     Action-Adventure, Animation, Kids   \n",
              "\n",
              "                                         description  \n",
              "0  Two Pixar filmmakers strive to bring their uni...  \n",
              "1  The puppies go on a spooky adventure through a...  \n",
              "2  Hazel and Gus share a love that sweeps them on...  \n",
              "3  Matt Beisner uses unique approaches to modifyi...  \n",
              "4  Spidey teams up with pals to become The Spidey...  "
            ],
            "text/html": [
              "\n",
              "  <div id=\"df-0ac8479f-db27-4fd6-a433-b3eb6646e58f\" class=\"colab-df-container\">\n",
              "    <div>\n",
              "<style scoped>\n",
              "    .dataframe tbody tr th:only-of-type {\n",
              "        vertical-align: middle;\n",
              "    }\n",
              "\n",
              "    .dataframe tbody tr th {\n",
              "        vertical-align: top;\n",
              "    }\n",
              "\n",
              "    .dataframe thead th {\n",
              "        text-align: right;\n",
              "    }\n",
              "</style>\n",
              "<table border=\"1\" class=\"dataframe\">\n",
              "  <thead>\n",
              "    <tr style=\"text-align: right;\">\n",
              "      <th></th>\n",
              "      <th>show_id</th>\n",
              "      <th>type</th>\n",
              "      <th>title</th>\n",
              "      <th>director</th>\n",
              "      <th>cast</th>\n",
              "      <th>country</th>\n",
              "      <th>date_added</th>\n",
              "      <th>release_year</th>\n",
              "      <th>rating</th>\n",
              "      <th>duration</th>\n",
              "      <th>listed_in</th>\n",
              "      <th>description</th>\n",
              "    </tr>\n",
              "  </thead>\n",
              "  <tbody>\n",
              "    <tr>\n",
              "      <th>0</th>\n",
              "      <td>s1</td>\n",
              "      <td>Movie</td>\n",
              "      <td>A Spark Story</td>\n",
              "      <td>Jason Sterman, Leanne Dare</td>\n",
              "      <td>Apthon Corbin, Louis Gonzales</td>\n",
              "      <td>NaN</td>\n",
              "      <td>September 24, 2021</td>\n",
              "      <td>2021</td>\n",
              "      <td>TV-PG</td>\n",
              "      <td>88 min</td>\n",
              "      <td>Documentary</td>\n",
              "      <td>Two Pixar filmmakers strive to bring their uni...</td>\n",
              "    </tr>\n",
              "    <tr>\n",
              "      <th>1</th>\n",
              "      <td>s2</td>\n",
              "      <td>Movie</td>\n",
              "      <td>Spooky Buddies</td>\n",
              "      <td>Robert Vince</td>\n",
              "      <td>Tucker Albrizzi, Diedrich Bader, Ameko Eks Mas...</td>\n",
              "      <td>United States, Canada</td>\n",
              "      <td>September 24, 2021</td>\n",
              "      <td>2011</td>\n",
              "      <td>G</td>\n",
              "      <td>93 min</td>\n",
              "      <td>Comedy, Fantasy, Kids</td>\n",
              "      <td>The puppies go on a spooky adventure through a...</td>\n",
              "    </tr>\n",
              "    <tr>\n",
              "      <th>2</th>\n",
              "      <td>s3</td>\n",
              "      <td>Movie</td>\n",
              "      <td>The Fault in Our Stars</td>\n",
              "      <td>Josh Boone</td>\n",
              "      <td>Shailene Woodley, Ansel Elgort, Laura Dern, Sa...</td>\n",
              "      <td>United States</td>\n",
              "      <td>September 24, 2021</td>\n",
              "      <td>2014</td>\n",
              "      <td>PG-13</td>\n",
              "      <td>127 min</td>\n",
              "      <td>Coming of Age, Drama, Romance</td>\n",
              "      <td>Hazel and Gus share a love that sweeps them on...</td>\n",
              "    </tr>\n",
              "    <tr>\n",
              "      <th>3</th>\n",
              "      <td>s4</td>\n",
              "      <td>TV Show</td>\n",
              "      <td>Dog: Impossible</td>\n",
              "      <td>NaN</td>\n",
              "      <td>Matt Beisner</td>\n",
              "      <td>United States</td>\n",
              "      <td>September 22, 2021</td>\n",
              "      <td>2019</td>\n",
              "      <td>TV-PG</td>\n",
              "      <td>2 Seasons</td>\n",
              "      <td>Animals &amp; Nature, Docuseries, Family</td>\n",
              "      <td>Matt Beisner uses unique approaches to modifyi...</td>\n",
              "    </tr>\n",
              "    <tr>\n",
              "      <th>4</th>\n",
              "      <td>s5</td>\n",
              "      <td>TV Show</td>\n",
              "      <td>Spidey And His Amazing Friends</td>\n",
              "      <td>NaN</td>\n",
              "      <td>Benjamin Valic, Lily Sanfelippo, Jakari Fraser...</td>\n",
              "      <td>United States</td>\n",
              "      <td>September 22, 2021</td>\n",
              "      <td>2021</td>\n",
              "      <td>TV-Y</td>\n",
              "      <td>1 Season</td>\n",
              "      <td>Action-Adventure, Animation, Kids</td>\n",
              "      <td>Spidey teams up with pals to become The Spidey...</td>\n",
              "    </tr>\n",
              "  </tbody>\n",
              "</table>\n",
              "</div>\n",
              "    <div class=\"colab-df-buttons\">\n",
              "\n",
              "  <div class=\"colab-df-container\">\n",
              "    <button class=\"colab-df-convert\" onclick=\"convertToInteractive('df-0ac8479f-db27-4fd6-a433-b3eb6646e58f')\"\n",
              "            title=\"Convert this dataframe to an interactive table.\"\n",
              "            style=\"display:none;\">\n",
              "\n",
              "  <svg xmlns=\"http://www.w3.org/2000/svg\" height=\"24px\" viewBox=\"0 -960 960 960\">\n",
              "    <path d=\"M120-120v-720h720v720H120Zm60-500h600v-160H180v160Zm220 220h160v-160H400v160Zm0 220h160v-160H400v160ZM180-400h160v-160H180v160Zm440 0h160v-160H620v160ZM180-180h160v-160H180v160Zm440 0h160v-160H620v160Z\"/>\n",
              "  </svg>\n",
              "    </button>\n",
              "\n",
              "  <style>\n",
              "    .colab-df-container {\n",
              "      display:flex;\n",
              "      gap: 12px;\n",
              "    }\n",
              "\n",
              "    .colab-df-convert {\n",
              "      background-color: #E8F0FE;\n",
              "      border: none;\n",
              "      border-radius: 50%;\n",
              "      cursor: pointer;\n",
              "      display: none;\n",
              "      fill: #1967D2;\n",
              "      height: 32px;\n",
              "      padding: 0 0 0 0;\n",
              "      width: 32px;\n",
              "    }\n",
              "\n",
              "    .colab-df-convert:hover {\n",
              "      background-color: #E2EBFA;\n",
              "      box-shadow: 0px 1px 2px rgba(60, 64, 67, 0.3), 0px 1px 3px 1px rgba(60, 64, 67, 0.15);\n",
              "      fill: #174EA6;\n",
              "    }\n",
              "\n",
              "    .colab-df-buttons div {\n",
              "      margin-bottom: 4px;\n",
              "    }\n",
              "\n",
              "    [theme=dark] .colab-df-convert {\n",
              "      background-color: #3B4455;\n",
              "      fill: #D2E3FC;\n",
              "    }\n",
              "\n",
              "    [theme=dark] .colab-df-convert:hover {\n",
              "      background-color: #434B5C;\n",
              "      box-shadow: 0px 1px 3px 1px rgba(0, 0, 0, 0.15);\n",
              "      filter: drop-shadow(0px 1px 2px rgba(0, 0, 0, 0.3));\n",
              "      fill: #FFFFFF;\n",
              "    }\n",
              "  </style>\n",
              "\n",
              "    <script>\n",
              "      const buttonEl =\n",
              "        document.querySelector('#df-0ac8479f-db27-4fd6-a433-b3eb6646e58f button.colab-df-convert');\n",
              "      buttonEl.style.display =\n",
              "        google.colab.kernel.accessAllowed ? 'block' : 'none';\n",
              "\n",
              "      async function convertToInteractive(key) {\n",
              "        const element = document.querySelector('#df-0ac8479f-db27-4fd6-a433-b3eb6646e58f');\n",
              "        const dataTable =\n",
              "          await google.colab.kernel.invokeFunction('convertToInteractive',\n",
              "                                                    [key], {});\n",
              "        if (!dataTable) return;\n",
              "\n",
              "        const docLinkHtml = 'Like what you see? Visit the ' +\n",
              "          '<a target=\"_blank\" href=https://colab.research.google.com/notebooks/data_table.ipynb>data table notebook</a>'\n",
              "          + ' to learn more about interactive tables.';\n",
              "        element.innerHTML = '';\n",
              "        dataTable['output_type'] = 'display_data';\n",
              "        await google.colab.output.renderOutput(dataTable, element);\n",
              "        const docLink = document.createElement('div');\n",
              "        docLink.innerHTML = docLinkHtml;\n",
              "        element.appendChild(docLink);\n",
              "      }\n",
              "    </script>\n",
              "  </div>\n",
              "\n",
              "\n",
              "<div id=\"df-fbd0fb55-6299-4f6d-8ac3-35caf7b2eef0\">\n",
              "  <button class=\"colab-df-quickchart\" onclick=\"quickchart('df-fbd0fb55-6299-4f6d-8ac3-35caf7b2eef0')\"\n",
              "            title=\"Suggest charts\"\n",
              "            style=\"display:none;\">\n",
              "\n",
              "<svg xmlns=\"http://www.w3.org/2000/svg\" height=\"24px\"viewBox=\"0 0 24 24\"\n",
              "     width=\"24px\">\n",
              "    <g>\n",
              "        <path d=\"M19 3H5c-1.1 0-2 .9-2 2v14c0 1.1.9 2 2 2h14c1.1 0 2-.9 2-2V5c0-1.1-.9-2-2-2zM9 17H7v-7h2v7zm4 0h-2V7h2v10zm4 0h-2v-4h2v4z\"/>\n",
              "    </g>\n",
              "</svg>\n",
              "  </button>\n",
              "\n",
              "<style>\n",
              "  .colab-df-quickchart {\n",
              "      --bg-color: #E8F0FE;\n",
              "      --fill-color: #1967D2;\n",
              "      --hover-bg-color: #E2EBFA;\n",
              "      --hover-fill-color: #174EA6;\n",
              "      --disabled-fill-color: #AAA;\n",
              "      --disabled-bg-color: #DDD;\n",
              "  }\n",
              "\n",
              "  [theme=dark] .colab-df-quickchart {\n",
              "      --bg-color: #3B4455;\n",
              "      --fill-color: #D2E3FC;\n",
              "      --hover-bg-color: #434B5C;\n",
              "      --hover-fill-color: #FFFFFF;\n",
              "      --disabled-bg-color: #3B4455;\n",
              "      --disabled-fill-color: #666;\n",
              "  }\n",
              "\n",
              "  .colab-df-quickchart {\n",
              "    background-color: var(--bg-color);\n",
              "    border: none;\n",
              "    border-radius: 50%;\n",
              "    cursor: pointer;\n",
              "    display: none;\n",
              "    fill: var(--fill-color);\n",
              "    height: 32px;\n",
              "    padding: 0;\n",
              "    width: 32px;\n",
              "  }\n",
              "\n",
              "  .colab-df-quickchart:hover {\n",
              "    background-color: var(--hover-bg-color);\n",
              "    box-shadow: 0 1px 2px rgba(60, 64, 67, 0.3), 0 1px 3px 1px rgba(60, 64, 67, 0.15);\n",
              "    fill: var(--button-hover-fill-color);\n",
              "  }\n",
              "\n",
              "  .colab-df-quickchart-complete:disabled,\n",
              "  .colab-df-quickchart-complete:disabled:hover {\n",
              "    background-color: var(--disabled-bg-color);\n",
              "    fill: var(--disabled-fill-color);\n",
              "    box-shadow: none;\n",
              "  }\n",
              "\n",
              "  .colab-df-spinner {\n",
              "    border: 2px solid var(--fill-color);\n",
              "    border-color: transparent;\n",
              "    border-bottom-color: var(--fill-color);\n",
              "    animation:\n",
              "      spin 1s steps(1) infinite;\n",
              "  }\n",
              "\n",
              "  @keyframes spin {\n",
              "    0% {\n",
              "      border-color: transparent;\n",
              "      border-bottom-color: var(--fill-color);\n",
              "      border-left-color: var(--fill-color);\n",
              "    }\n",
              "    20% {\n",
              "      border-color: transparent;\n",
              "      border-left-color: var(--fill-color);\n",
              "      border-top-color: var(--fill-color);\n",
              "    }\n",
              "    30% {\n",
              "      border-color: transparent;\n",
              "      border-left-color: var(--fill-color);\n",
              "      border-top-color: var(--fill-color);\n",
              "      border-right-color: var(--fill-color);\n",
              "    }\n",
              "    40% {\n",
              "      border-color: transparent;\n",
              "      border-right-color: var(--fill-color);\n",
              "      border-top-color: var(--fill-color);\n",
              "    }\n",
              "    60% {\n",
              "      border-color: transparent;\n",
              "      border-right-color: var(--fill-color);\n",
              "    }\n",
              "    80% {\n",
              "      border-color: transparent;\n",
              "      border-right-color: var(--fill-color);\n",
              "      border-bottom-color: var(--fill-color);\n",
              "    }\n",
              "    90% {\n",
              "      border-color: transparent;\n",
              "      border-bottom-color: var(--fill-color);\n",
              "    }\n",
              "  }\n",
              "</style>\n",
              "\n",
              "  <script>\n",
              "    async function quickchart(key) {\n",
              "      const quickchartButtonEl =\n",
              "        document.querySelector('#' + key + ' button');\n",
              "      quickchartButtonEl.disabled = true;  // To prevent multiple clicks.\n",
              "      quickchartButtonEl.classList.add('colab-df-spinner');\n",
              "      try {\n",
              "        const charts = await google.colab.kernel.invokeFunction(\n",
              "            'suggestCharts', [key], {});\n",
              "      } catch (error) {\n",
              "        console.error('Error during call to suggestCharts:', error);\n",
              "      }\n",
              "      quickchartButtonEl.classList.remove('colab-df-spinner');\n",
              "      quickchartButtonEl.classList.add('colab-df-quickchart-complete');\n",
              "    }\n",
              "    (() => {\n",
              "      let quickchartButtonEl =\n",
              "        document.querySelector('#df-fbd0fb55-6299-4f6d-8ac3-35caf7b2eef0 button');\n",
              "      quickchartButtonEl.style.display =\n",
              "        google.colab.kernel.accessAllowed ? 'block' : 'none';\n",
              "    })();\n",
              "  </script>\n",
              "</div>\n",
              "\n",
              "    </div>\n",
              "  </div>\n"
            ],
            "application/vnd.google.colaboratory.intrinsic+json": {
              "type": "dataframe",
              "variable_name": "df",
              "summary": "{\n  \"name\": \"df\",\n  \"rows\": 1368,\n  \"fields\": [\n    {\n      \"column\": \"show_id\",\n      \"properties\": {\n        \"dtype\": \"string\",\n        \"num_unique_values\": 1368,\n        \"samples\": [\n          \"s428\",\n          \"s1088\",\n          \"s669\"\n        ],\n        \"semantic_type\": \"\",\n        \"description\": \"\"\n      }\n    },\n    {\n      \"column\": \"type\",\n      \"properties\": {\n        \"dtype\": \"category\",\n        \"num_unique_values\": 2,\n        \"samples\": [\n          \"TV Show\",\n          \"Movie\"\n        ],\n        \"semantic_type\": \"\",\n        \"description\": \"\"\n      }\n    },\n    {\n      \"column\": \"title\",\n      \"properties\": {\n        \"dtype\": \"string\",\n        \"num_unique_values\": 1368,\n        \"samples\": [\n          \"The Liberty Story\",\n          \"Return from Witch Mountain\"\n        ],\n        \"semantic_type\": \"\",\n        \"description\": \"\"\n      }\n    },\n    {\n      \"column\": \"director\",\n      \"properties\": {\n        \"dtype\": \"category\",\n        \"num_unique_values\": 578,\n        \"samples\": [\n          \"Hamish Hamilton\",\n          \"Steve Rash\"\n        ],\n        \"semantic_type\": \"\",\n        \"description\": \"\"\n      }\n    },\n    {\n      \"column\": \"cast\",\n      \"properties\": {\n        \"dtype\": \"string\",\n        \"num_unique_values\": 1132,\n        \"samples\": [\n          \"Bob Poole\",\n          \"Robert Redford, Arapata McKay, Tsaan Ciqae, Mae Tui, Cy Peck Jr., Mutang Urud\"\n        ],\n        \"semantic_type\": \"\",\n        \"description\": \"\"\n      }\n    },\n    {\n      \"column\": \"country\",\n      \"properties\": {\n        \"dtype\": \"category\",\n        \"num_unique_values\": 87,\n        \"samples\": [\n          \"Canada, Malaysia, United States\",\n          \"United States, Canada\"\n        ],\n        \"semantic_type\": \"\",\n        \"description\": \"\"\n      }\n    },\n    {\n      \"column\": \"date_added\",\n      \"properties\": {\n        \"dtype\": \"object\",\n        \"num_unique_values\": 150,\n        \"samples\": [\n          \"September 25, 2020\",\n          \"July 23, 2021\"\n        ],\n        \"semantic_type\": \"\",\n        \"description\": \"\"\n      }\n    },\n    {\n      \"column\": \"release_year\",\n      \"properties\": {\n        \"dtype\": \"number\",\n        \"std\": 22,\n        \"min\": 1928,\n        \"max\": 2021,\n        \"num_unique_values\": 90,\n        \"samples\": [\n          1952,\n          1973\n        ],\n        \"semantic_type\": \"\",\n        \"description\": \"\"\n      }\n    },\n    {\n      \"column\": \"rating\",\n      \"properties\": {\n        \"dtype\": \"category\",\n        \"num_unique_values\": 9,\n        \"samples\": [\n          \"TV-Y7\",\n          \"G\"\n        ],\n        \"semantic_type\": \"\",\n        \"description\": \"\"\n      }\n    },\n    {\n      \"column\": \"duration\",\n      \"properties\": {\n        \"dtype\": \"category\",\n        \"num_unique_values\": 156,\n        \"samples\": [\n          \"118 min\",\n          \"12 min\"\n        ],\n        \"semantic_type\": \"\",\n        \"description\": \"\"\n      }\n    },\n    {\n      \"column\": \"listed_in\",\n      \"properties\": {\n        \"dtype\": \"category\",\n        \"num_unique_values\": 317,\n        \"samples\": [\n          \"Animation\",\n          \"Action-Adventure, Animals & Nature, Comedy\"\n        ],\n        \"semantic_type\": \"\",\n        \"description\": \"\"\n      }\n    },\n    {\n      \"column\": \"description\",\n      \"properties\": {\n        \"dtype\": \"string\",\n        \"num_unique_values\": 1366,\n        \"samples\": [\n          \"Cody learns he can communicate with fish as he nears his 13th birthday.\",\n          \"Luke Skywalker attempts a daring raid on Coruscant.\"\n        ],\n        \"semantic_type\": \"\",\n        \"description\": \"\"\n      }\n    }\n  ]\n}"
            }
          },
          "metadata": {},
          "execution_count": 21
        }
      ]
    },
    {
      "cell_type": "code",
      "source": [
        "df.shape\n"
      ],
      "metadata": {
        "colab": {
          "base_uri": "https://localhost:8080/"
        },
        "id": "FjN_X8AvOiBH",
        "outputId": "1e966b1a-8fa9-4ffd-f502-5926cad713e3"
      },
      "execution_count": 22,
      "outputs": [
        {
          "output_type": "execute_result",
          "data": {
            "text/plain": [
              "(1368, 12)"
            ]
          },
          "metadata": {},
          "execution_count": 22
        }
      ]
    },
    {
      "cell_type": "code",
      "source": [
        "df.isnull().sum()"
      ],
      "metadata": {
        "colab": {
          "base_uri": "https://localhost:8080/"
        },
        "id": "UNNw8nyMOlAi",
        "outputId": "1c47ec04-7e98-427c-ef89-de9b5f60da61"
      },
      "execution_count": 23,
      "outputs": [
        {
          "output_type": "execute_result",
          "data": {
            "text/plain": [
              "show_id           0\n",
              "type              0\n",
              "title             0\n",
              "director        440\n",
              "cast            174\n",
              "country         175\n",
              "date_added        3\n",
              "release_year      0\n",
              "rating            2\n",
              "duration          0\n",
              "listed_in         0\n",
              "description       0\n",
              "dtype: int64"
            ]
          },
          "metadata": {},
          "execution_count": 23
        }
      ]
    },
    {
      "cell_type": "code",
      "source": [
        "df['director'].fillna('Unknown', inplace=True)\n",
        "df['cast'].fillna('Unknown', inplace=True)\n",
        "df['country'].fillna('Unknown', inplace=True)\n",
        "df['rating'].fillna('Unknown', inplace=True)\n",
        "df['date_added'].fillna('Unknown', inplace=True)\n",
        "from sklearn.preprocessing import LabelEncoder\n",
        "label_encoders = {}\n",
        "categorical_columns = ['type', 'title', 'director', 'cast', 'country', 'date_added', 'rating', 'duration', 'listed_in', 'description']\n",
        "\n",
        "for col in categorical_columns:\n",
        "    le = LabelEncoder()\n",
        "    df[col] = le.fit_transform(df[col])\n",
        "    label_encoders[col] = le\n",
        "\n",
        "print(df.head())"
      ],
      "metadata": {
        "colab": {
          "base_uri": "https://localhost:8080/"
        },
        "id": "wRR9VBipOp99",
        "outputId": "d1a1650a-e476-46d7-fac9-da44e558d6ff"
      },
      "execution_count": 24,
      "outputs": [
        {
          "output_type": "stream",
          "name": "stdout",
          "text": [
            "  show_id  type  title  director  cast  country  date_added  release_year  \\\n",
            "0      s1     0     17       242    60       87         145          2021   \n",
            "1      s2     0    980       459  1072       48         145          2011   \n",
            "2      s3     0   1085       290   952       43         145          2014   \n",
            "3      s4     1    316       549   713       43         144          2019   \n",
            "4      s5     1    978       549    88       43         144          2021   \n",
            "\n",
            "   rating  duration  listed_in  description  \n",
            "0       5       142        254         1242  \n",
            "1       0       149        212         1156  \n",
            "2       2        32        233          652  \n",
            "3       5        70         85          828  \n",
            "4       6         0         14         1046  \n"
          ]
        }
      ]
    },
    {
      "cell_type": "code",
      "source": [
        "df.shape"
      ],
      "metadata": {
        "colab": {
          "base_uri": "https://localhost:8080/"
        },
        "id": "JzHwCTvHOuIy",
        "outputId": "8db9eefd-9705-40c9-cd7c-8aaabc8df614"
      },
      "execution_count": 25,
      "outputs": [
        {
          "output_type": "execute_result",
          "data": {
            "text/plain": [
              "(1368, 12)"
            ]
          },
          "metadata": {},
          "execution_count": 25
        }
      ]
    },
    {
      "cell_type": "code",
      "source": [
        "df1=df"
      ],
      "metadata": {
        "id": "4H9m0RvhRvyS"
      },
      "execution_count": 26,
      "outputs": []
    },
    {
      "cell_type": "code",
      "source": [
        "import pandas as pd\n",
        "from prophet import Prophet\n",
        "import matplotlib.pyplot as plt"
      ],
      "metadata": {
        "id": "Cv2hC-qfQlUs"
      },
      "execution_count": 27,
      "outputs": []
    },
    {
      "cell_type": "code",
      "source": [
        "df['date_added'] = pd.to_datetime(df['date_added'])\n",
        "df['count'] = 1\n",
        "df = df.groupby('date_added').count().reset_index()\n",
        "df = df.rename(columns={'date_added': 'ds', 'count': 'y'})\n",
        "model = Prophet()\n",
        "model.fit(df)\n",
        "future = model.make_future_dataframe(periods=365)  # Forecast for 1 year\n",
        "forecast = model.predict(future)\n",
        "fig = model.plot(forecast)\n",
        "plt.title(\"Time Series Forecasting\")\n",
        "plt.xlabel(\"Date\")\n",
        "plt.ylabel(\"Count of Shows Added\")\n",
        "plt.show()\n",
        "fig2 = model.plot_components(forecast)\n",
        "plt.show()"
      ],
      "metadata": {
        "colab": {
          "base_uri": "https://localhost:8080/",
          "height": 1000
        },
        "id": "k1KVAP2rQrs2",
        "outputId": "22463dd1-3174-4120-c416-7808c3b10399"
      },
      "execution_count": 28,
      "outputs": [
        {
          "output_type": "stream",
          "name": "stderr",
          "text": [
            "INFO:prophet:Disabling yearly seasonality. Run prophet with yearly_seasonality=True to override this.\n",
            "INFO:prophet:Disabling weekly seasonality. Run prophet with weekly_seasonality=True to override this.\n",
            "INFO:prophet:Disabling daily seasonality. Run prophet with daily_seasonality=True to override this.\n",
            "DEBUG:cmdstanpy:input tempfile: /tmp/tmpgjxof207/4ziwy7n_.json\n",
            "DEBUG:cmdstanpy:input tempfile: /tmp/tmpgjxof207/a732n19_.json\n",
            "DEBUG:cmdstanpy:idx 0\n",
            "DEBUG:cmdstanpy:running CmdStan, num_threads: None\n",
            "DEBUG:cmdstanpy:CmdStan args: ['/usr/local/lib/python3.10/dist-packages/prophet/stan_model/prophet_model.bin', 'random', 'seed=82806', 'data', 'file=/tmp/tmpgjxof207/4ziwy7n_.json', 'init=/tmp/tmpgjxof207/a732n19_.json', 'output', 'file=/tmp/tmpgjxof207/prophet_modeld1h4fj5j/prophet_model-20240614150426.csv', 'method=optimize', 'algorithm=lbfgs', 'iter=10000']\n",
            "15:04:26 - cmdstanpy - INFO - Chain [1] start processing\n",
            "INFO:cmdstanpy:Chain [1] start processing\n",
            "15:04:26 - cmdstanpy - INFO - Chain [1] done processing\n",
            "INFO:cmdstanpy:Chain [1] done processing\n"
          ]
        },
        {
          "output_type": "display_data",
          "data": {
            "text/plain": [
              "<Figure size 1000x600 with 1 Axes>"
            ],
            "image/png": "[encoded data removed]"
          },
          "metadata": {}
        },
        {
          "output_type": "display_data",
          "data": {
            "text/plain": [
              "<Figure size 900x300 with 1 Axes>"
            ],
            "image/png": "[encoded data removed]"
          },
          "metadata": {}
        }
      ]
    },
    {
      "cell_type": "code",
      "source": [
        "pip install pandas nltk vaderSentiment"
      ],
      "metadata": {
        "colab": {
          "base_uri": "https://localhost:8080/"
        },
        "id": "Y9GmozdWRMC3",
        "outputId": "e83d8ead-63c7-42eb-fb7e-5abe789b0b9a"
      },
      "execution_count": 29,
      "outputs": [
        {
          "output_type": "stream",
          "name": "stdout",
          "text": [
            "Requirement already satisfied: pandas in /usr/local/lib/python3.10/dist-packages (2.0.3)\n",
            "Requirement already satisfied: nltk in /usr/local/lib/python3.10/dist-packages (3.8.1)\n",
            "Requirement already satisfied: vaderSentiment in /usr/local/lib/python3.10/dist-packages (3.3.2)\n",
            "Requirement already satisfied: python-dateutil>=2.8.2 in /usr/local/lib/python3.10/dist-packages (from pandas) (2.8.2)\n",
            "Requirement already satisfied: pytz>=2020.1 in /usr/local/lib/python3.10/dist-packages (from pandas) (2023.4)\n",
            "Requirement already satisfied: tzdata>=2022.1 in /usr/local/lib/python3.10/dist-packages (from pandas) (2024.1)\n",
            "Requirement already satisfied: numpy>=1.21.0 in /usr/local/lib/python3.10/dist-packages (from pandas) (1.25.2)\n",
            "Requirement already satisfied: click in /usr/local/lib/python3.10/dist-packages (from nltk) (8.1.7)\n",
            "Requirement already satisfied: joblib in /usr/local/lib/python3.10/dist-packages (from nltk) (1.4.2)\n",
            "Requirement already satisfied: regex>=2021.8.3 in /usr/local/lib/python3.10/dist-packages (from nltk) (2024.5.15)\n",
            "Requirement already satisfied: tqdm in /usr/local/lib/python3.10/dist-packages (from nltk) (4.66.4)\n",
            "Requirement already satisfied: requests in /usr/local/lib/python3.10/dist-packages (from vaderSentiment) (2.31.0)\n",
            "Requirement already satisfied: six>=1.5 in /usr/local/lib/python3.10/dist-packages (from python-dateutil>=2.8.2->pandas) (1.16.0)\n",
            "Requirement already satisfied: charset-normalizer<4,>=2 in /usr/local/lib/python3.10/dist-packages (from requests->vaderSentiment) (3.3.2)\n",
            "Requirement already satisfied: idna<4,>=2.5 in /usr/local/lib/python3.10/dist-packages (from requests->vaderSentiment) (3.7)\n",
            "Requirement already satisfied: urllib3<3,>=1.21.1 in /usr/local/lib/python3.10/dist-packages (from requests->vaderSentiment) (2.0.7)\n",
            "Requirement already satisfied: certifi>=2017.4.17 in /usr/local/lib/python3.10/dist-packages (from requests->vaderSentiment) (2024.6.2)\n"
          ]
        }
      ]
    },
    {
      "cell_type": "code",
      "source": [
        "import pandas as pd\n",
        "import nltk\n",
        "from vaderSentiment.vaderSentiment import SentimentIntensityAnalyzer"
      ],
      "metadata": {
        "id": "ZEMx9yfgQ3-1"
      },
      "execution_count": 30,
      "outputs": []
    },
    {
      "cell_type": "code",
      "source": [
        "df=pd.read_csv(\"/disney_plus_titles.csv\")\n",
        "nltk.download('vader_lexicon')\n",
        "analyzer = SentimentIntensityAnalyzer()\n",
        "\n",
        "# Apply sentiment analysis on the description column\n",
        "df['sentiment'] = df['description'].apply(lambda x: analyzer.polarity_scores(x)['compound'])\n",
        "\n",
        "# Classify the sentiment as positive, negative, or neutral\n",
        "df['sentiment_class'] = df['sentiment'].apply(lambda x: 'positive' if x > 0.05 else ('negative' if x < -0.05 else 'neutral'))\n",
        "\n",
        "# Display the dataframe with sentiment analysis results\n",
        "print(df[['description', 'sentiment', 'sentiment_class']])"
      ],
      "metadata": {
        "colab": {
          "base_uri": "https://localhost:8080/"
        },
        "id": "xrh6pkZkRCko",
        "outputId": "f1f0d2bf-5c94-47bd-f138-586f41639d69"
      },
      "execution_count": 31,
      "outputs": [
        {
          "output_type": "stream",
          "name": "stdout",
          "text": [
            "                                            description  sentiment  \\\n",
            "0     Two Pixar filmmakers strive to bring their uni...     0.2263   \n",
            "1     The puppies go on a spooky adventure through a...    -0.2023   \n",
            "2     Hazel and Gus share a love that sweeps them on...     0.7506   \n",
            "3     Matt Beisner uses unique approaches to modifyi...     0.0000   \n",
            "4     Spidey teams up with pals to become The Spidey...     0.0000   \n",
            "...                                                 ...        ...   \n",
            "1363  Merlin trains a young orphan who's destined to...     0.0000   \n",
            "1364  A strong-willed family struggles to establish ...    -0.3612   \n",
            "1365   Welcome to Kirby's world! It's rude and sketchy.     0.0000   \n",
            "1366  Ryan discovers his ability to control a giant ...     0.3182   \n",
            "1367  Rock out with the Imagination Movers, Disney J...     0.5093   \n",
            "\n",
            "     sentiment_class  \n",
            "0           positive  \n",
            "1           negative  \n",
            "2           positive  \n",
            "3            neutral  \n",
            "4            neutral  \n",
            "...              ...  \n",
            "1363         neutral  \n",
            "1364        negative  \n",
            "1365         neutral  \n",
            "1366        positive  \n",
            "1367        positive  \n",
            "\n",
            "[1368 rows x 3 columns]\n"
          ]
        },
        {
          "output_type": "stream",
          "name": "stderr",
          "text": [
            "[nltk_data] Downloading package vader_lexicon to /root/nltk_data...\n",
            "[nltk_data]   Package vader_lexicon is already up-to-date!\n"
          ]
        }
      ]
    },
    {
      "cell_type": "code",
      "source": [
        "from sklearn.cluster import KMeans\n",
        "from sklearn.ensemble import RandomForestClassifier\n",
        "from sklearn.model_selection import train_test_split\n",
        "from sklearn.metrics import accuracy_score"
      ],
      "metadata": {
        "id": "47Q5NerjR408"
      },
      "execution_count": 32,
      "outputs": []
    },
    {
      "cell_type": "code",
      "source": [
        "df=df1\n",
        "df.fillna('Unknown', inplace=True)\n",
        "label_encoders = {}\n",
        "categorical_columns = ['type', 'title', 'director', 'cast', 'country', 'date_added', 'rating', 'duration', 'listed_in']\n",
        "for col in categorical_columns:\n",
        "    le = LabelEncoder()\n",
        "    df[col] = le.fit_transform(df[col].astype(str))  # Convert to string to avoid issues with None\n",
        "    label_encoders[col] = le\n",
        "kmeans = KMeans(n_clusters=3, random_state=42)\n",
        "df['cluster'] = kmeans.fit_predict(df[categorical_columns])\n",
        "print(\"K-means Clustering:\")\n",
        "print(df[['show_id', 'cluster']])\n",
        "X = df.drop(columns=['show_id', 'type', 'cluster'])\n",
        "y = df['type']\n",
        "X_train, X_test, y_train, y_test = train_test_split(X, y, test_size=0.3, random_state=42)\n",
        "clf = RandomForestClassifier(n_estimators=100, random_state=42)\n",
        "clf.fit(X_train, y_train)\n",
        "y_pred = clf.predict(X_test)\n",
        "accuracy = accuracy_score(y_test, y_pred)\n",
        "print(f\"Random Forest Classification Accuracy: {accuracy:.2f}\")\n",
        "df['predicted_type'] = clf.predict(X)\n",
        "print(\"\\nDataframe with Predicted Types:\")\n",
        "print(df[['show_id', 'type', 'predicted_type', 'cluster']])"
      ],
      "metadata": {
        "colab": {
          "base_uri": "https://localhost:8080/"
        },
        "id": "2t-m11heSDAP",
        "outputId": "4db2f2e0-fa28-4613-86bc-2f6462e85cb0"
      },
      "execution_count": 41,
      "outputs": [
        {
          "output_type": "stream",
          "name": "stderr",
          "text": [
            "/usr/local/lib/python3.10/dist-packages/sklearn/cluster/_kmeans.py:870: FutureWarning: The default value of `n_init` will change from 10 to 'auto' in 1.4. Set the value of `n_init` explicitly to suppress the warning\n",
            "  warnings.warn(\n"
          ]
        },
        {
          "output_type": "stream",
          "name": "stdout",
          "text": [
            "K-means Clustering:\n",
            "     show_id  cluster\n",
            "0         s1        1\n",
            "1         s2        0\n",
            "2         s3        1\n",
            "3         s4        1\n",
            "4         s5        2\n",
            "...      ...      ...\n",
            "1363   s1364        2\n",
            "1364   s1365        2\n",
            "1365   s1366        1\n",
            "1366   s1367        1\n",
            "1367   s1368        1\n",
            "\n",
            "[1368 rows x 2 columns]\n",
            "Random Forest Classification Accuracy: 0.99\n",
            "\n",
            "Dataframe with Predicted Types:\n",
            "     show_id  type  predicted_type  cluster\n",
            "0         s1     0               0        1\n",
            "1         s2     0               0        0\n",
            "2         s3     0               0        1\n",
            "3         s4     1               1        1\n",
            "4         s5     1               1        2\n",
            "...      ...   ...             ...      ...\n",
            "1363   s1364     0               0        2\n",
            "1364   s1365     0               0        2\n",
            "1365   s1366     1               1        1\n",
            "1366   s1367     1               1        1\n",
            "1367   s1368     1               1        1\n",
            "\n",
            "[1368 rows x 4 columns]\n"
          ]
        }
      ]
    }
  ]
}